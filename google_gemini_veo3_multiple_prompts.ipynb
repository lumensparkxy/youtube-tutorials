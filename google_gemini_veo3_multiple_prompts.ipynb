{
  "nbformat": 4,
  "nbformat_minor": 0,
  "metadata": {
    "colab": {
      "provenance": [],
      "authorship_tag": "ABX9TyM97qjVLQ1ZXpyGV/aSDNUz",
      "include_colab_link": true
    },
    "kernelspec": {
      "name": "python3",
      "display_name": "Python 3"
    },
    "language_info": {
      "name": "python"
    }
  },
  "cells": [
    {
      "cell_type": "markdown",
      "metadata": {
        "id": "view-in-github",
        "colab_type": "text"
      },
      "source": [
        "<a href=\"https://colab.research.google.com/github/lumensparkxy/youtube-tutorials/blob/main/google_gemini_veo3_multiple_prompts.ipynb\" target=\"_parent\"><img src=\"https://colab.research.google.com/assets/colab-badge.svg\" alt=\"Open In Colab\"/></a>"
      ]
    },
    {
      "cell_type": "code",
      "execution_count": null,
      "metadata": {
        "id": "udMpaStwdGCv"
      },
      "outputs": [],
      "source": [
        "import time\n",
        "from google import genai\n",
        "from google.genai import types\n",
        "\n",
        "import time"
      ]
    },
    {
      "cell_type": "code",
      "source": [
        "from google.colab import userdata\n",
        "api_key = userdata.get('GOOGLE_API_KEY')"
      ],
      "metadata": {
        "id": "S4b5iErtdcy_"
      },
      "execution_count": null,
      "outputs": []
    },
    {
      "cell_type": "code",
      "source": [
        "client = genai.Client(api_key=api_key)"
      ],
      "metadata": {
        "id": "_YpqweAIdHtS"
      },
      "execution_count": null,
      "outputs": []
    },
    {
      "cell_type": "code",
      "source": [
        "prompts = [\n",
        "    {\n",
        "    \"input_file_name\": \"anaya_r03.png\",\n",
        "    \"output_file_name\": \"anaya_r03_marathi.mp4\",\n",
        "    \"prompt\": \"Wardrobe: Paithani-inspired saree (muted magenta with gold border), braid stays right shoulder, Kolhapuri sandals; minimal jewelry (retain left-nostril gold stud and small jhumkas). Keep all identity anchors: mole under right eye, faint scar above left brow, gold nose stud on left nostril, left brow slightly higher, 2 mm maroon bindi, braid over right shoulder, red thread bracelet on right wrist.\\n\\nLocation & shot: ANAYA-R03 stands full-body in front of Shaniwar Wada gate, Pune; start wide establishing → move to medium full. She takes 2 natural steps forward, gentle smile, addresses camera in Marathi. Natural crowd ambience; clear feet and ground contact shadow.\\n\\nDialogue (Marathi):\\n\\\"इथलं सर्वात शुद्ध तूप म्हणजे 'Vatsagulma Ghee'. ही आमच्या शेतकऱ्यांची हमी आहे.\\\"\\nTranslit: Ithlāṁ sarvātt śuddha tūp mhaṇje 'Vatsagulma Ghee'. Hī āmchyā śetkaryāñchī hamī āhe.\\nEnglish: \\\"The purest ghee you can find here is 'Vatsagulma Ghee'. That's our farmers' guarantee.\\\"\"\n",
        "    },\n",
        "    {\n",
        "    \"input_file_name\": \"anaya_r03.png\",\n",
        "    \"output_file_name\": \"anaya_r03_telugu.mp4\",\n",
        "    \"prompt\": \"Wardrobe: Telugu pattu saree (deep teal with zari border), jasmine gajra, braid stays over right shoulder; simple sandals. Keep all identity anchors (mole, scar, left-nostril gold stud, left brow slightly higher, 2 mm maroon bindi, braid right, red thread bracelet).\\n\\nLocation & shot: Laad Bazaar lane with Charminar framed in background (Hyderabad). Full-body; wide → medium full. She steps to mark, raises right hand in a small friendly wave, speaks Telugu. Ambient street sounds, no motion blur; feet and contact shadow visible.\\n\\nDialogue (Telugu):\\n\\\"ఇక్కడ మీకు దొరికే అత్యంత స్వచ్ఛమైన నెయ్యి 'Vatsagulma Ghee'. ఇది మా రైతుల హామీ.\\\"\\nTranslit: Ikkada mīku dorikē atyanta svacchamaina neyya 'Vatsagulma Ghee'. Idi mā raitula hāmī.\\nEnglish: \\\"The purest ghee you'll find here is 'Vatsagulma Ghee'. That's our farmers' promise.\\\"\"\n",
        "    },\n",
        "    {\n",
        "    \"input_file_name\": \"anaya_r03.png\",\n",
        "    \"output_file_name\": \"anaya_r03_tamil.mp4\",\n",
        "    \"prompt\": \"Wardrobe: Kanchipuram silk saree (maroon with gold zari), braid stays right shoulder; temple bangles minimal; sandals. Keep identity anchors (mole, scar, left-nostril stud, left brow higher, 2 mm maroon bindi, braid right, red thread bracelet).\\n\\nLocation & shot: Outside Meenakshi Amman Temple gopuram, Madurai (respectful distance, public forecourt). Full-body; establish wide with gopuram → medium full. Gentle head-nod to camera, calm smile, speaks Tamil. Natural ambience; ground contact shadow visible.\\n\\nDialogue (Tamil):\\n\\\"இங்கே கிடைக்கக்கூடிய மிகத் தூய நெய் 'Vatsagulma Ghee'. இது எங்கள் விவசாயிகளின் உத்தரவாதம்.\\\"\\nTranslit: Iṅgē kiṭaikkakūdiyā migat tūya nei 'Vatsagulma Ghee'. Itu eṅgaḷ vivasāyikaḷin uttharavātam.\\nEnglish: \\\"The purest ghee you can get here is 'Vatsagulma Ghee'. It's our farmers' guarantee.\\\"\"\n",
        "    },\n",
        "    {\n",
        "    \"input_file_name\": \"anaya_r03.png\",\n",
        "    \"output_file_name\": \"anaya_r03_kannada.mp4\",\n",
        "    \"prompt\": \"Wardrobe: Ilkal saree (indigo with Kasuti border), braid over right shoulder; simple leather sandals. Keep identity anchors (mole, scar, left-nostril stud, left brow higher, 2 mm maroon bindi, braid right, red thread bracelet).\\n\\nLocation & shot: In front of Mysore Palace (public plaza). Full-body; wide → medium full. She takes two soft steps, opens left palm in a welcoming gesture, speaks Kannada. Ambient crowd and birds; feet and contact shadow clear.\\n\\nDialogue (Kannada):\\n\\\"ಇಲ್ಲಿ ನಿಮಗೆ ಸಿಗುವ ಅತ್ಯಂತ ಶುದ್ಧ ತುಪ್ಪ 'Vatsagulma Ghee'. ಇದು ನಮ್ಮ ರೈತರ ಭರವಸೆ.\\\"\\nTranslit: Illi nimge siguva atyanta śuddha tuppa 'Vatsagulma Ghee'. Idu namma raitara bharavase.\\nEnglish: \\\"The purest ghee you get here is 'Vatsagulma Ghee'. It's our farmers' assurance.\\\"\"\n",
        "    },\n",
        "    {\n",
        "    \"input_file_name\": \"anaya_r03.png\",\n",
        "    \"output_file_name\": \"anaya_r03_gujarati.mp4\",\n",
        "    \"prompt\": \"Wardrobe: Bandhani saree (sunset orange with patola-style border), braid right; comfy flats. Keep identity anchors (mole, scar, left-nostril stud, left brow higher, 2 mm maroon bindi, braid right, red thread bracelet).\\n\\nLocation & shot: Sabarmati Riverfront promenade, Ahmedabad. Full-body; wide with river → medium full. She turns 30° toward camera, lifts small tin of ghee to chest level (label generic), speaks Gujarati. Ambient riverfront sounds; feet and contact shadow visible.\\n\\nDialogue (Gujarati):\\n\\\"અહીં તમને મળતું સૌથી શુદ્ધ ઘી 'Vatsagulma Ghee' છે. આ અમારા ખેડૂતોની હામી છે.\\\"\\nTranslit: Ahīṁ tamne maḷatuṁ sauthi śuddh ghī 'Vatsagulma Ghee' chhe. Ā amārā kheḍuto nī hāmī chhe.\\nEnglish: \\\"The purest ghee you'll find here is 'Vatsagulma Ghee'. It's our farmers' pledge.\\\"\"\n",
        "    },\n",
        "    {\n",
        "    \"input_file_name\": \"anaya_r03.png\",\n",
        "    \"output_file_name\": \"anaya_r03_kashmiri.mp4\",\n",
        "    \"prompt\": \"Wardrobe: Traditional Kashmiri pheran (deep pine green) with light pashmina shawl; modest headscarf; braid remains over right shoulder and visible in front. Closed-toe flats for the dock. Keep identity anchors (mole, scar, left-nostril stud, left brow higher, 2 mm maroon bindi if culturally appropriate, braid right, red thread bracelet).\\n\\nLocation & shot: Dal Lake, Srinagar — on a lakeside jetty with shikaras in background. Full-body; wide with lake → medium full. Gentle step forward, soft smile, speaks Kashmiri. Ambient water and birds; feet and contact shadow visible.\\n\\nDialogue (Kashmiri — Nastaliq):\\n\\\"یتھ ہند سبھُن خالص گھی 'Vatsagulma Ghee' چھ۔ یہ چھ سٲنۍ کسانَن ہامی۔\\\"\\nTranslit: Yath hund sabhun khālis ghee 'Vatsagulma Ghee' chhu. Yi chhu sānye kisānān hāmi.\\nEnglish: \\\"The purest ghee here is 'Vatsagulma Ghee'. It's our farmers' guarantee.\\\"\"\n",
        "    },\n",
        "    {\n",
        "    \"input_file_name\": \"anaya_r03.png\",\n",
        "    \"output_file_name\": \"anaya_r03_bengali.mp4\",\n",
        "    \"prompt\": \"Wardrobe: Traditional white saree with red border (taant/garad style), braid over right shoulder; simple sandals. Keep identity anchors (mole, scar, left-nostril stud, left brow higher, 2 mm maroon bindi, braid right, red thread bracelet).\\n\\nLocation & shot: Victoria Memorial lawn, Kolkata (building in background). Full-body; wide → medium full. She steps forward one pace, gestures gently with right hand, speaks Bengali. Ambient park sounds; feet and contact shadow visible.\\n\\nDialogue (Bengali):\\n\\\"এখানে আপনি যে সবচেয়ে খাঁটি ঘি পাবেন, সেটাই 'Vatsagulma Ghee'। এটা আমাদের কৃষকদের গ্যারান্টি।\\\"\\nTranslit: Ekhāne āpni je sabcheye khāṅṭi ghi pāben, setāi 'Vatsagulma Ghee'. Eṭā āmādēr krishokdēr gyārāṇṭi.\\nEnglish: \\\"The purest ghee you'll find here is 'Vatsagulma Ghee'. That's our farmers' guarantee.\\\"\"\n",
        "    },\n",
        "    {\n",
        "    \"input_file_name\": \"anaya_r03.png\",\n",
        "    \"output_file_name\": \"anaya_r03_punjabi.mp4\",\n",
        "    \"prompt\": \"Wardrobe: Punjabi salwar-kameez (pastel with subtle phulkari dupatta). Dupatta lightly covers head (respectful), braid remains over right shoulder and visible. Flat juttis. Keep identity anchors (mole, scar, left-nostril stud, left brow higher, 2 mm maroon bindi if appropriate, braid right, red thread bracelet).\\n\\nLocation & shot: Outside the Golden Temple complex, Amritsar (public plaza with Harmandir Sahib visible in background; respectful distance, no interior filming). Full-body; wide → medium full. She folds hands briefly, then opens to address camera in Punjabi. Ambient crowd/temple plaza sounds; feet and contact shadow visible.\\n\\nDialogue (Punjabi - Gurmukhi):\\n\\\"ਇੱਥੇ ਤੁਹਾਨੂੰ ਮਿਲਣ ਵਾਲਾ ਸਭ ਤੋਂ ਸੁੱਧ ਘੀ 'Vatsagulma Ghee' ਹੈ। ਇਹ ਸਾਡੇ ਕਿਸਾਨਾਂ ਦੀ ਗਾਰੰਟੀ ਹੈ।\\\"\\nTranslit: Itthe tuhānū milaṇ vālā sabh toṁ suddh ghī 'Vatsagulma Ghee' hai. Ih sāḍe kisānāṁ dī gāraṇṭī hai.\\nEnglish: \\\"The purest ghee you'll find here is 'Vatsagulma Ghee'. It's our farmers' guarantee.\\\"\"\n",
        "    },\n",
        "    {\n",
        "    \"input_file_name\": \"anaya_r03.png\",\n",
        "    \"output_file_name\": \"anaya_r03_malayalam.mp4\",\n",
        "    \"prompt\": \"Wardrobe: Kerala kasavu saree (cream with gold border), braid over right shoulder; sandals. Keep identity anchors (mole, scar, left-nostril stud, left brow higher, 2 mm maroon bindi, braid right, red thread bracelet).\\n\\nLocation & shot: Fort Kochi beach with Chinese fishing nets at sunset. Full-body; wide with nets → medium full. She steps to mark, points gently toward nets then to camera, speaks Malayalam. Ambient sea and gulls; feet and contact shadow visible.\\n\\nDialogue (Malayalam):\\n\\\"ഇവിടെ നിങ്ങൾക്ക് ലഭിക്കുന്ന ഏറ്റവും ശുദ്ധമായ നെയ്യ് 'Vatsagulma Ghee' ആണ്. ഇത് നമ്മുടെ കർഷകരുടെ ഉറപ്പാണ്.\\\"\\nTranslit: Iviṭe niṅṅaḷkku labhikkunna etāvum śuddhamāya neyy 'Vatsagulma Ghee' āṇ. Ithu nammuṭe karṣakaruṭe uṟappāṇ.\\nEnglish: \\\"The purest ghee you'll get here is 'Vatsagulma Ghee'. It's our farmers' assurance.\\\"\"\n",
        "    },\n",
        "    {\n",
        "    \"input_file_name\": \"anaya_r03.png\",\n",
        "    \"output_file_name\": \"anaya_r03_bihari.mp4\",\n",
        "    \"prompt\": \"Wardrobe: Madhubani-print saree (earth tones), braid over right shoulder; simple sandals. Optional slim glass bangles; retain red thread bracelet. Keep identity anchors (mole, scar, left-nostril stud, left brow higher, 2 mm maroon bindi, braid right, red thread bracelet).\\n\\nLocation & shot: Golghar, Patna (open plaza). Full-body; wide → medium full. She takes two steps forward, slight chin-up confidence, speaks in Bhojpuri. Ambient plaza sounds; feet and contact shadow visible.\\n\\nDialogue (Bhojpuri):\\n\\\"यहाँ जे सबसे बढ़िया खाँटी घी मिलेला, ऊ बा 'Vatsagulma Ghee'। ई हमनी के किसानन के गारंटी बा।\\\"\\nTranslit: Yahाँ je sabse baṛhiya khā̃ṭī ghī milelā, ū bā 'Vatsagulma Ghee'. Ī hamnī ke kisānan ke gāraṇṭī bā.\\nEnglish: \\\"The purest, most authentic ghee you get here is 'Vatsagulma Ghee'. That's our farmers' guarantee.\\\"\"\n",
        "    }\n",
        "]"
      ],
      "metadata": {
        "id": "AWCivMjf8cga"
      },
      "execution_count": null,
      "outputs": []
    },
    {
      "cell_type": "code",
      "source": [
        "my_model=\"veo-3.0-fast-generate-001\""
      ],
      "metadata": {
        "id": "8NuyriVt6eeu"
      },
      "execution_count": null,
      "outputs": []
    },
    {
      "cell_type": "code",
      "source": [
        "for prompt in prompts:\n",
        "  image_file_path = prompt[\"input_file_name\"]\n",
        "  my_prompt = prompt[\"prompt\"]\n",
        "  output_file_name = prompt[\"output_file_name\"]\n",
        "\n",
        "  operation = client.models.generate_videos(model=my_model,prompt=my_prompt,image = types.Image.from_file(location=image_file_path))\n",
        "\n",
        "  while not operation.done:\n",
        "      time.sleep(60)\n",
        "      operation = client.operations.get(operation)\n",
        "      print(operation)\n",
        "\n",
        "  generated_video = operation.response.generated_videos[0]\n",
        "  _ =  client.files.download(file=generated_video.video)\n",
        "  generated_video.video.save(output_file_name)\n",
        "\n",
        "  time.sleep(60 * 5)"
      ],
      "metadata": {
        "id": "PGv32B129qiG"
      },
      "execution_count": null,
      "outputs": []
    }
  ]
}